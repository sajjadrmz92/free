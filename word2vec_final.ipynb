{
 "cells": [
  {
   "cell_type": "code",
   "execution_count": 1,
   "metadata": {},
   "outputs": [],
   "source": [
    "# imports needed and set up logging\n",
    "import gzip\n",
    "import gensim \n",
    "import logging\n",
    "\n",
    "logging.basicConfig(format='%(asctime)s : %(levelname)s : %(message)s', level=logging.INFO)"
   ]
  },
  {
   "cell_type": "code",
   "execution_count": 2,
   "metadata": {},
   "outputs": [
    {
     "name": "stderr",
     "output_type": "stream",
     "text": [
      "2021-02-01 15:23:07,083 : INFO : read 0 reviews\n",
      "2021-02-01 15:23:07,378 : INFO : read 10000 reviews\n",
      "2021-02-01 15:23:07,654 : INFO : read 20000 reviews\n",
      "2021-02-01 15:23:07,972 : INFO : read 30000 reviews\n",
      "2021-02-01 15:23:08,250 : INFO : read 40000 reviews\n",
      "2021-02-01 15:23:08,525 : INFO : read 50000 reviews\n",
      "2021-02-01 15:23:08,808 : INFO : read 60000 reviews\n",
      "2021-02-01 15:23:09,088 : INFO : read 70000 reviews\n",
      "2021-02-01 15:23:09,369 : INFO : read 80000 reviews\n",
      "2021-02-01 15:23:09,642 : INFO : read 90000 reviews\n",
      "2021-02-01 15:23:09,912 : INFO : read 100000 reviews\n",
      "2021-02-01 15:23:10,193 : INFO : read 110000 reviews\n",
      "2021-02-01 15:23:10,487 : INFO : read 120000 reviews\n",
      "2021-02-01 15:23:10,837 : INFO : read 130000 reviews\n",
      "2021-02-01 15:23:11,120 : INFO : read 140000 reviews\n",
      "2021-02-01 15:23:11,399 : INFO : read 150000 reviews\n",
      "2021-02-01 15:23:11,726 : INFO : read 160000 reviews\n",
      "2021-02-01 15:23:12,006 : INFO : read 170000 reviews\n",
      "2021-02-01 15:23:12,282 : INFO : read 180000 reviews\n",
      "2021-02-01 15:23:12,558 : INFO : read 190000 reviews\n",
      "2021-02-01 15:23:12,836 : INFO : read 200000 reviews\n",
      "2021-02-01 15:23:13,109 : INFO : read 210000 reviews\n",
      "2021-02-01 15:23:13,471 : INFO : read 220000 reviews\n",
      "2021-02-01 15:23:13,750 : INFO : read 230000 reviews\n",
      "2021-02-01 15:23:14,031 : INFO : read 240000 reviews\n",
      "2021-02-01 15:23:14,304 : INFO : read 250000 reviews\n",
      "2021-02-01 15:23:14,585 : INFO : read 260000 reviews\n",
      "2021-02-01 15:23:14,867 : INFO : read 270000 reviews\n",
      "2021-02-01 15:23:15,143 : INFO : read 280000 reviews\n",
      "2021-02-01 15:23:15,425 : INFO : read 290000 reviews\n",
      "2021-02-01 15:23:15,703 : INFO : read 300000 reviews\n",
      "2021-02-01 15:23:16,096 : INFO : read 310000 reviews\n",
      "2021-02-01 15:23:16,375 : INFO : read 320000 reviews\n",
      "2021-02-01 15:23:16,650 : INFO : read 330000 reviews\n",
      "2021-02-01 15:23:16,925 : INFO : read 340000 reviews\n",
      "2021-02-01 15:23:17,197 : INFO : read 350000 reviews\n",
      "2021-02-01 15:23:17,467 : INFO : read 360000 reviews\n",
      "2021-02-01 15:23:17,744 : INFO : read 370000 reviews\n",
      "2021-02-01 15:23:18,016 : INFO : read 380000 reviews\n",
      "2021-02-01 15:23:18,290 : INFO : read 390000 reviews\n",
      "2021-02-01 15:23:18,564 : INFO : read 400000 reviews\n",
      "2021-02-01 15:23:18,840 : INFO : read 410000 reviews\n",
      "2021-02-01 15:23:19,256 : INFO : read 420000 reviews\n",
      "2021-02-01 15:23:19,535 : INFO : read 430000 reviews\n",
      "2021-02-01 15:23:19,807 : INFO : read 440000 reviews\n",
      "2021-02-01 15:23:20,087 : INFO : read 450000 reviews\n",
      "2021-02-01 15:23:20,362 : INFO : read 460000 reviews\n",
      "2021-02-01 15:23:20,638 : INFO : read 470000 reviews\n",
      "2021-02-01 15:23:20,946 : INFO : read 480000 reviews\n",
      "2021-02-01 15:23:21,223 : INFO : read 490000 reviews\n",
      "2021-02-01 15:23:21,498 : INFO : read 500000 reviews\n",
      "2021-02-01 15:23:21,772 : INFO : read 510000 reviews\n",
      "2021-02-01 15:23:22,043 : INFO : read 520000 reviews\n",
      "2021-02-01 15:23:22,319 : INFO : read 530000 reviews\n",
      "2021-02-01 15:23:22,597 : INFO : read 540000 reviews\n",
      "2021-02-01 15:23:23,057 : INFO : read 550000 reviews\n",
      "2021-02-01 15:23:23,330 : INFO : read 560000 reviews\n",
      "2021-02-01 15:23:23,604 : INFO : read 570000 reviews\n",
      "2021-02-01 15:23:23,880 : INFO : read 580000 reviews\n",
      "2021-02-01 15:23:24,156 : INFO : read 590000 reviews\n",
      "2021-02-01 15:23:24,438 : INFO : read 600000 reviews\n",
      "2021-02-01 15:23:24,712 : INFO : read 610000 reviews\n",
      "2021-02-01 15:23:24,990 : INFO : read 620000 reviews\n",
      "2021-02-01 15:23:25,261 : INFO : read 630000 reviews\n",
      "2021-02-01 15:23:25,532 : INFO : read 640000 reviews\n",
      "2021-02-01 15:23:25,811 : INFO : read 650000 reviews\n",
      "2021-02-01 15:23:26,082 : INFO : read 660000 reviews\n",
      "2021-02-01 15:23:26,358 : INFO : read 670000 reviews\n",
      "2021-02-01 15:23:26,633 : INFO : read 680000 reviews\n",
      "2021-02-01 15:23:26,908 : INFO : read 690000 reviews\n",
      "2021-02-01 15:23:27,184 : INFO : read 700000 reviews\n",
      "2021-02-01 15:23:27,462 : INFO : read 710000 reviews\n",
      "2021-02-01 15:23:27,974 : INFO : read 720000 reviews\n",
      "2021-02-01 15:23:28,253 : INFO : read 730000 reviews\n",
      "2021-02-01 15:23:28,550 : INFO : read 740000 reviews\n",
      "2021-02-01 15:23:28,829 : INFO : read 750000 reviews\n",
      "2021-02-01 15:23:29,108 : INFO : read 760000 reviews\n",
      "2021-02-01 15:23:29,409 : INFO : read 770000 reviews\n",
      "2021-02-01 15:23:29,686 : INFO : read 780000 reviews\n",
      "2021-02-01 15:23:29,959 : INFO : read 790000 reviews\n",
      "2021-02-01 15:23:30,234 : INFO : read 800000 reviews\n",
      "2021-02-01 15:23:30,511 : INFO : read 810000 reviews\n",
      "2021-02-01 15:23:30,793 : INFO : read 820000 reviews\n",
      "2021-02-01 15:23:31,071 : INFO : read 830000 reviews\n",
      "2021-02-01 15:23:31,354 : INFO : read 840000 reviews\n",
      "2021-02-01 15:23:31,629 : INFO : read 850000 reviews\n",
      "2021-02-01 15:23:31,906 : INFO : read 860000 reviews\n",
      "2021-02-01 15:23:32,186 : INFO : read 870000 reviews\n",
      "2021-02-01 15:23:32,467 : INFO : read 880000 reviews\n",
      "2021-02-01 15:23:32,812 : INFO : read 890000 reviews\n",
      "2021-02-01 15:23:33,100 : INFO : read 900000 reviews\n",
      "2021-02-01 15:23:33,386 : INFO : read 910000 reviews\n",
      "2021-02-01 15:23:33,675 : INFO : read 920000 reviews\n",
      "2021-02-01 15:23:34,239 : INFO : read 930000 reviews\n",
      "2021-02-01 15:23:34,508 : INFO : read 940000 reviews\n",
      "2021-02-01 15:23:34,785 : INFO : read 950000 reviews\n",
      "2021-02-01 15:23:35,092 : INFO : read 960000 reviews\n",
      "2021-02-01 15:23:35,386 : INFO : read 970000 reviews\n",
      "2021-02-01 15:23:35,661 : INFO : read 980000 reviews\n",
      "2021-02-01 15:23:35,959 : INFO : read 990000 reviews\n",
      "2021-02-01 15:23:36,245 : INFO : read 1000000 reviews\n",
      "2021-02-01 15:23:36,523 : INFO : read 1010000 reviews\n",
      "2021-02-01 15:23:36,812 : INFO : read 1020000 reviews\n",
      "2021-02-01 15:23:37,086 : INFO : read 1030000 reviews\n",
      "2021-02-01 15:23:37,368 : INFO : read 1040000 reviews\n",
      "2021-02-01 15:23:37,644 : INFO : read 1050000 reviews\n",
      "2021-02-01 15:23:37,920 : INFO : read 1060000 reviews\n",
      "2021-02-01 15:23:38,197 : INFO : read 1070000 reviews\n",
      "2021-02-01 15:23:38,469 : INFO : read 1080000 reviews\n",
      "2021-02-01 15:23:38,746 : INFO : read 1090000 reviews\n",
      "2021-02-01 15:23:39,027 : INFO : read 1100000 reviews\n",
      "2021-02-01 15:23:39,301 : INFO : read 1110000 reviews\n",
      "2021-02-01 15:23:39,573 : INFO : read 1120000 reviews\n",
      "2021-02-01 15:23:39,851 : INFO : read 1130000 reviews\n",
      "2021-02-01 15:23:40,126 : INFO : read 1140000 reviews\n",
      "2021-02-01 15:23:40,402 : INFO : read 1150000 reviews\n",
      "2021-02-01 15:23:40,684 : INFO : read 1160000 reviews\n",
      "2021-02-01 15:23:40,972 : INFO : read 1170000 reviews\n",
      "2021-02-01 15:23:41,247 : INFO : read 1180000 reviews\n",
      "2021-02-01 15:23:41,529 : INFO : read 1190000 reviews\n",
      "2021-02-01 15:23:42,188 : INFO : read 1200000 reviews\n",
      "2021-02-01 15:23:42,468 : INFO : read 1210000 reviews\n",
      "2021-02-01 15:23:42,747 : INFO : read 1220000 reviews\n",
      "2021-02-01 15:23:43,021 : INFO : read 1230000 reviews\n",
      "2021-02-01 15:23:43,297 : INFO : read 1240000 reviews\n",
      "2021-02-01 15:23:43,572 : INFO : read 1250000 reviews\n",
      "2021-02-01 15:23:43,848 : INFO : read 1260000 reviews\n",
      "2021-02-01 15:23:44,123 : INFO : read 1270000 reviews\n",
      "2021-02-01 15:23:44,399 : INFO : read 1280000 reviews\n",
      "2021-02-01 15:23:44,674 : INFO : read 1290000 reviews\n",
      "2021-02-01 15:23:44,950 : INFO : read 1300000 reviews\n",
      "2021-02-01 15:23:45,230 : INFO : read 1310000 reviews\n",
      "2021-02-01 15:23:45,502 : INFO : read 1320000 reviews\n",
      "2021-02-01 15:23:45,781 : INFO : read 1330000 reviews\n",
      "2021-02-01 15:23:46,059 : INFO : read 1340000 reviews\n",
      "2021-02-01 15:23:46,349 : INFO : read 1350000 reviews\n",
      "2021-02-01 15:23:46,638 : INFO : read 1360000 reviews\n",
      "2021-02-01 15:23:46,938 : INFO : read 1370000 reviews\n",
      "2021-02-01 15:23:47,220 : INFO : read 1380000 reviews\n",
      "2021-02-01 15:23:47,491 : INFO : read 1390000 reviews\n",
      "2021-02-01 15:23:47,769 : INFO : read 1400000 reviews\n",
      "2021-02-01 15:23:48,049 : INFO : read 1410000 reviews\n",
      "2021-02-01 15:23:48,332 : INFO : read 1420000 reviews\n",
      "2021-02-01 15:23:48,611 : INFO : read 1430000 reviews\n",
      "2021-02-01 15:23:48,884 : INFO : read 1440000 reviews\n",
      "2021-02-01 15:23:49,196 : INFO : read 1450000 reviews\n",
      "2021-02-01 15:23:49,482 : INFO : read 1460000 reviews\n",
      "2021-02-01 15:23:49,800 : INFO : read 1470000 reviews\n",
      "2021-02-01 15:23:50,185 : INFO : read 1480000 reviews\n",
      "2021-02-01 15:23:50,476 : INFO : read 1490000 reviews\n",
      "2021-02-01 15:23:50,753 : INFO : read 1500000 reviews\n",
      "2021-02-01 15:23:51,033 : INFO : read 1510000 reviews\n",
      "2021-02-01 15:23:51,318 : INFO : read 1520000 reviews\n",
      "2021-02-01 15:23:52,083 : INFO : read 1530000 reviews\n"
     ]
    },
    {
     "name": "stderr",
     "output_type": "stream",
     "text": [
      "2021-02-01 15:23:52,366 : INFO : read 1540000 reviews\n",
      "2021-02-01 15:23:52,648 : INFO : read 1550000 reviews\n",
      "2021-02-01 15:23:52,928 : INFO : read 1560000 reviews\n",
      "2021-02-01 15:23:53,213 : INFO : read 1570000 reviews\n",
      "2021-02-01 15:23:53,512 : INFO : read 1580000 reviews\n",
      "2021-02-01 15:23:53,802 : INFO : read 1590000 reviews\n",
      "2021-02-01 15:23:54,089 : INFO : read 1600000 reviews\n",
      "2021-02-01 15:23:54,381 : INFO : read 1610000 reviews\n",
      "2021-02-01 15:23:54,678 : INFO : read 1620000 reviews\n",
      "2021-02-01 15:23:54,972 : INFO : read 1630000 reviews\n",
      "2021-02-01 15:23:55,255 : INFO : read 1640000 reviews\n",
      "2021-02-01 15:23:55,546 : INFO : read 1650000 reviews\n",
      "2021-02-01 15:23:55,848 : INFO : read 1660000 reviews\n",
      "2021-02-01 15:23:56,136 : INFO : read 1670000 reviews\n",
      "2021-02-01 15:23:56,413 : INFO : read 1680000 reviews\n",
      "2021-02-01 15:23:56,693 : INFO : read 1690000 reviews\n",
      "2021-02-01 15:23:57,003 : INFO : read 1700000 reviews\n",
      "2021-02-01 15:23:57,338 : INFO : read 1710000 reviews\n",
      "2021-02-01 15:23:57,660 : INFO : read 1720000 reviews\n",
      "2021-02-01 15:23:58,017 : INFO : read 1730000 reviews\n",
      "2021-02-01 15:23:58,342 : INFO : read 1740000 reviews\n",
      "2021-02-01 15:23:58,643 : INFO : read 1750000 reviews\n",
      "2021-02-01 15:23:58,984 : INFO : read 1760000 reviews\n",
      "2021-02-01 15:23:59,314 : INFO : read 1770000 reviews\n",
      "2021-02-01 15:23:59,589 : INFO : read 1780000 reviews\n",
      "2021-02-01 15:23:59,877 : INFO : read 1790000 reviews\n",
      "2021-02-01 15:24:00,160 : INFO : read 1800000 reviews\n",
      "2021-02-01 15:24:00,446 : INFO : read 1810000 reviews\n",
      "2021-02-01 15:24:00,732 : INFO : read 1820000 reviews\n",
      "2021-02-01 15:24:01,016 : INFO : read 1830000 reviews\n",
      "2021-02-01 15:24:01,379 : INFO : read 1840000 reviews\n",
      "2021-02-01 15:24:01,711 : INFO : read 1850000 reviews\n",
      "2021-02-01 15:24:02,005 : INFO : read 1860000 reviews\n",
      "2021-02-01 15:24:02,284 : INFO : read 1870000 reviews\n",
      "2021-02-01 15:24:02,568 : INFO : read 1880000 reviews\n",
      "2021-02-01 15:24:02,848 : INFO : read 1890000 reviews\n",
      "2021-02-01 15:24:03,132 : INFO : read 1900000 reviews\n",
      "2021-02-01 15:24:03,418 : INFO : read 1910000 reviews\n",
      "2021-02-01 15:24:03,706 : INFO : read 1920000 reviews\n",
      "2021-02-01 15:24:03,982 : INFO : read 1930000 reviews\n",
      "2021-02-01 15:24:04,259 : INFO : read 1940000 reviews\n",
      "2021-02-01 15:24:05,123 : INFO : read 1950000 reviews\n",
      "2021-02-01 15:24:05,401 : INFO : read 1960000 reviews\n",
      "2021-02-01 15:24:05,681 : INFO : read 1970000 reviews\n",
      "2021-02-01 15:24:05,951 : INFO : read 1980000 reviews\n",
      "2021-02-01 15:24:06,232 : INFO : read 1990000 reviews\n",
      "2021-02-01 15:24:06,505 : INFO : read 2000000 reviews\n",
      "2021-02-01 15:24:06,782 : INFO : read 2010000 reviews\n",
      "2021-02-01 15:24:07,055 : INFO : read 2020000 reviews\n",
      "2021-02-01 15:24:07,337 : INFO : read 2030000 reviews\n",
      "2021-02-01 15:24:07,622 : INFO : read 2040000 reviews\n",
      "2021-02-01 15:24:07,901 : INFO : read 2050000 reviews\n",
      "2021-02-01 15:24:08,179 : INFO : read 2060000 reviews\n",
      "2021-02-01 15:24:08,452 : INFO : read 2070000 reviews\n",
      "2021-02-01 15:24:08,734 : INFO : read 2080000 reviews\n",
      "2021-02-01 15:24:09,013 : INFO : read 2090000 reviews\n",
      "2021-02-01 15:24:09,293 : INFO : read 2100000 reviews\n",
      "2021-02-01 15:24:09,570 : INFO : read 2110000 reviews\n",
      "2021-02-01 15:24:09,843 : INFO : read 2120000 reviews\n",
      "2021-02-01 15:24:10,116 : INFO : read 2130000 reviews\n",
      "2021-02-01 15:24:10,396 : INFO : read 2140000 reviews\n",
      "2021-02-01 15:24:10,682 : INFO : read 2150000 reviews\n",
      "2021-02-01 15:24:10,966 : INFO : read 2160000 reviews\n",
      "2021-02-01 15:24:11,250 : INFO : read 2170000 reviews\n",
      "2021-02-01 15:24:11,532 : INFO : read 2180000 reviews\n",
      "2021-02-01 15:24:11,809 : INFO : read 2190000 reviews\n",
      "2021-02-01 15:24:12,082 : INFO : read 2200000 reviews\n",
      "2021-02-01 15:24:12,361 : INFO : read 2210000 reviews\n",
      "2021-02-01 15:24:12,635 : INFO : read 2220000 reviews\n",
      "2021-02-01 15:24:12,930 : INFO : read 2230000 reviews\n",
      "2021-02-01 15:24:13,245 : INFO : read 2240000 reviews\n",
      "2021-02-01 15:24:13,523 : INFO : read 2250000 reviews\n",
      "2021-02-01 15:24:13,811 : INFO : read 2260000 reviews\n",
      "2021-02-01 15:24:14,098 : INFO : read 2270000 reviews\n",
      "2021-02-01 15:24:14,369 : INFO : read 2280000 reviews\n",
      "2021-02-01 15:24:14,640 : INFO : read 2290000 reviews\n",
      "2021-02-01 15:24:14,924 : INFO : read 2300000 reviews\n",
      "2021-02-01 15:24:15,211 : INFO : read 2310000 reviews\n",
      "2021-02-01 15:24:15,500 : INFO : read 2320000 reviews\n",
      "2021-02-01 15:24:15,796 : INFO : read 2330000 reviews\n",
      "2021-02-01 15:24:16,092 : INFO : read 2340000 reviews\n",
      "2021-02-01 15:24:16,457 : INFO : read 2350000 reviews\n",
      "2021-02-01 15:24:16,775 : INFO : read 2360000 reviews\n",
      "2021-02-01 15:24:17,053 : INFO : read 2370000 reviews\n",
      "2021-02-01 15:24:17,342 : INFO : read 2380000 reviews\n",
      "2021-02-01 15:24:17,632 : INFO : read 2390000 reviews\n",
      "2021-02-01 15:24:17,921 : INFO : read 2400000 reviews\n",
      "2021-02-01 15:24:18,198 : INFO : read 2410000 reviews\n",
      "2021-02-01 15:24:18,479 : INFO : read 2420000 reviews\n",
      "2021-02-01 15:24:18,762 : INFO : read 2430000 reviews\n",
      "2021-02-01 15:24:19,045 : INFO : read 2440000 reviews\n",
      "2021-02-01 15:24:19,329 : INFO : read 2450000 reviews\n",
      "2021-02-01 15:24:19,610 : INFO : read 2460000 reviews\n",
      "2021-02-01 15:24:20,663 : INFO : read 2470000 reviews\n",
      "2021-02-01 15:24:20,960 : INFO : read 2480000 reviews\n",
      "2021-02-01 15:24:21,244 : INFO : read 2490000 reviews\n",
      "2021-02-01 15:24:21,534 : INFO : read 2500000 reviews\n",
      "2021-02-01 15:24:21,820 : INFO : read 2510000 reviews\n",
      "2021-02-01 15:24:22,099 : INFO : read 2520000 reviews\n",
      "2021-02-01 15:24:22,378 : INFO : read 2530000 reviews\n",
      "2021-02-01 15:24:22,660 : INFO : read 2540000 reviews\n",
      "2021-02-01 15:24:22,933 : INFO : read 2550000 reviews\n",
      "2021-02-01 15:24:23,214 : INFO : read 2560000 reviews\n",
      "2021-02-01 15:24:23,495 : INFO : read 2570000 reviews\n",
      "2021-02-01 15:24:23,771 : INFO : read 2580000 reviews\n",
      "2021-02-01 15:24:24,052 : INFO : read 2590000 reviews\n",
      "2021-02-01 15:24:24,335 : INFO : read 2600000 reviews\n",
      "2021-02-01 15:24:24,612 : INFO : read 2610000 reviews\n",
      "2021-02-01 15:24:24,892 : INFO : read 2620000 reviews\n",
      "2021-02-01 15:24:25,171 : INFO : read 2630000 reviews\n",
      "2021-02-01 15:24:25,444 : INFO : read 2640000 reviews\n",
      "2021-02-01 15:24:25,735 : INFO : read 2650000 reviews\n",
      "2021-02-01 15:24:25,925 : INFO : read 0 reviews\n",
      "2021-02-01 15:24:26,218 : INFO : read 10000 reviews\n",
      "2021-02-01 15:24:26,512 : INFO : read 20000 reviews\n",
      "2021-02-01 15:24:26,811 : INFO : read 30000 reviews\n",
      "2021-02-01 15:24:27,134 : INFO : read 40000 reviews\n",
      "2021-02-01 15:24:27,422 : INFO : read 50000 reviews\n",
      "2021-02-01 15:24:27,717 : INFO : read 60000 reviews\n",
      "2021-02-01 15:24:28,007 : INFO : read 70000 reviews\n",
      "2021-02-01 15:24:28,302 : INFO : read 80000 reviews\n",
      "2021-02-01 15:24:28,606 : INFO : read 90000 reviews\n",
      "2021-02-01 15:24:28,920 : INFO : read 100000 reviews\n",
      "2021-02-01 15:24:29,209 : INFO : read 110000 reviews\n",
      "2021-02-01 15:24:29,501 : INFO : read 120000 reviews\n",
      "2021-02-01 15:24:29,793 : INFO : read 130000 reviews\n",
      "2021-02-01 15:24:30,083 : INFO : read 140000 reviews\n",
      "2021-02-01 15:24:30,375 : INFO : read 150000 reviews\n",
      "2021-02-01 15:24:30,667 : INFO : read 160000 reviews\n",
      "2021-02-01 15:24:30,960 : INFO : read 170000 reviews\n",
      "2021-02-01 15:24:31,249 : INFO : read 180000 reviews\n",
      "2021-02-01 15:24:31,542 : INFO : read 190000 reviews\n",
      "2021-02-01 15:24:31,832 : INFO : read 200000 reviews\n",
      "2021-02-01 15:24:32,124 : INFO : read 210000 reviews\n",
      "2021-02-01 15:24:32,419 : INFO : read 220000 reviews\n",
      "2021-02-01 15:24:32,716 : INFO : read 230000 reviews\n",
      "2021-02-01 15:24:33,003 : INFO : read 240000 reviews\n",
      "2021-02-01 15:24:33,297 : INFO : read 250000 reviews\n",
      "2021-02-01 15:24:33,593 : INFO : read 260000 reviews\n",
      "2021-02-01 15:24:33,892 : INFO : read 270000 reviews\n",
      "2021-02-01 15:24:34,190 : INFO : read 280000 reviews\n",
      "2021-02-01 15:24:34,484 : INFO : read 290000 reviews\n",
      "2021-02-01 15:24:34,775 : INFO : read 300000 reviews\n",
      "2021-02-01 15:24:35,064 : INFO : read 310000 reviews\n",
      "2021-02-01 15:24:35,355 : INFO : read 320000 reviews\n",
      "2021-02-01 15:24:35,642 : INFO : read 330000 reviews\n",
      "2021-02-01 15:24:35,930 : INFO : read 340000 reviews\n",
      "2021-02-01 15:24:36,222 : INFO : read 350000 reviews\n",
      "2021-02-01 15:24:36,542 : INFO : read 360000 reviews\n",
      "2021-02-01 15:24:36,843 : INFO : read 370000 reviews\n",
      "2021-02-01 15:24:37,137 : INFO : read 380000 reviews\n",
      "2021-02-01 15:24:37,427 : INFO : read 390000 reviews\n",
      "2021-02-01 15:24:37,716 : INFO : read 400000 reviews\n"
     ]
    },
    {
     "name": "stderr",
     "output_type": "stream",
     "text": [
      "2021-02-01 15:24:38,007 : INFO : read 410000 reviews\n",
      "2021-02-01 15:24:38,307 : INFO : read 420000 reviews\n",
      "2021-02-01 15:24:38,600 : INFO : read 430000 reviews\n",
      "2021-02-01 15:24:38,893 : INFO : read 440000 reviews\n",
      "2021-02-01 15:24:39,184 : INFO : read 450000 reviews\n",
      "2021-02-01 15:24:39,475 : INFO : read 460000 reviews\n",
      "2021-02-01 15:24:40,715 : INFO : read 470000 reviews\n",
      "2021-02-01 15:24:41,007 : INFO : read 480000 reviews\n",
      "2021-02-01 15:24:41,294 : INFO : read 490000 reviews\n",
      "2021-02-01 15:24:41,585 : INFO : read 500000 reviews\n",
      "2021-02-01 15:24:41,878 : INFO : read 510000 reviews\n",
      "2021-02-01 15:24:42,169 : INFO : read 520000 reviews\n",
      "2021-02-01 15:24:42,457 : INFO : read 530000 reviews\n",
      "2021-02-01 15:24:42,745 : INFO : read 540000 reviews\n",
      "2021-02-01 15:24:43,037 : INFO : read 550000 reviews\n",
      "2021-02-01 15:24:43,326 : INFO : read 560000 reviews\n",
      "2021-02-01 15:24:43,620 : INFO : read 570000 reviews\n",
      "2021-02-01 15:24:43,913 : INFO : read 580000 reviews\n",
      "2021-02-01 15:24:44,204 : INFO : read 590000 reviews\n",
      "2021-02-01 15:24:44,499 : INFO : read 600000 reviews\n",
      "2021-02-01 15:24:44,789 : INFO : read 610000 reviews\n",
      "2021-02-01 15:24:45,078 : INFO : read 620000 reviews\n",
      "2021-02-01 15:24:45,368 : INFO : read 630000 reviews\n",
      "2021-02-01 15:24:45,657 : INFO : read 640000 reviews\n",
      "2021-02-01 15:24:45,949 : INFO : read 650000 reviews\n",
      "2021-02-01 15:24:46,242 : INFO : read 660000 reviews\n",
      "2021-02-01 15:24:46,531 : INFO : read 670000 reviews\n",
      "2021-02-01 15:24:46,827 : INFO : read 680000 reviews\n",
      "2021-02-01 15:24:47,117 : INFO : read 690000 reviews\n",
      "2021-02-01 15:24:47,406 : INFO : read 700000 reviews\n",
      "2021-02-01 15:24:47,698 : INFO : read 710000 reviews\n",
      "2021-02-01 15:24:47,989 : INFO : read 720000 reviews\n",
      "2021-02-01 15:24:48,282 : INFO : read 730000 reviews\n",
      "2021-02-01 15:24:48,575 : INFO : read 740000 reviews\n",
      "2021-02-01 15:24:48,865 : INFO : read 750000 reviews\n",
      "2021-02-01 15:24:49,161 : INFO : read 760000 reviews\n",
      "2021-02-01 15:24:49,455 : INFO : read 770000 reviews\n",
      "2021-02-01 15:24:49,746 : INFO : read 780000 reviews\n",
      "2021-02-01 15:24:50,035 : INFO : read 790000 reviews\n",
      "2021-02-01 15:24:50,336 : INFO : read 800000 reviews\n",
      "2021-02-01 15:24:50,625 : INFO : read 810000 reviews\n",
      "2021-02-01 15:24:51,155 : INFO : read 820000 reviews\n",
      "2021-02-01 15:24:51,446 : INFO : read 830000 reviews\n",
      "2021-02-01 15:24:51,736 : INFO : read 840000 reviews\n",
      "2021-02-01 15:24:52,028 : INFO : read 850000 reviews\n",
      "2021-02-01 15:24:52,320 : INFO : read 860000 reviews\n",
      "2021-02-01 15:24:52,610 : INFO : read 870000 reviews\n",
      "2021-02-01 15:24:52,902 : INFO : read 880000 reviews\n",
      "2021-02-01 15:24:53,187 : INFO : read 890000 reviews\n",
      "2021-02-01 15:24:53,477 : INFO : read 900000 reviews\n",
      "2021-02-01 15:24:53,767 : INFO : read 910000 reviews\n",
      "2021-02-01 15:24:54,060 : INFO : read 920000 reviews\n",
      "2021-02-01 15:24:54,358 : INFO : read 930000 reviews\n",
      "2021-02-01 15:24:54,653 : INFO : read 940000 reviews\n",
      "2021-02-01 15:24:54,949 : INFO : read 950000 reviews\n",
      "2021-02-01 15:24:55,245 : INFO : read 960000 reviews\n",
      "2021-02-01 15:24:55,543 : INFO : read 970000 reviews\n",
      "2021-02-01 15:24:55,836 : INFO : read 980000 reviews\n",
      "2021-02-01 15:24:56,127 : INFO : read 990000 reviews\n",
      "2021-02-01 15:24:56,418 : INFO : read 1000000 reviews\n",
      "2021-02-01 15:24:56,710 : INFO : read 1010000 reviews\n",
      "2021-02-01 15:24:57,005 : INFO : read 1020000 reviews\n",
      "2021-02-01 15:24:57,298 : INFO : read 1030000 reviews\n",
      "2021-02-01 15:24:57,591 : INFO : read 1040000 reviews\n",
      "2021-02-01 15:24:57,879 : INFO : read 1050000 reviews\n",
      "2021-02-01 15:24:58,171 : INFO : read 1060000 reviews\n",
      "2021-02-01 15:24:58,459 : INFO : read 1070000 reviews\n",
      "2021-02-01 15:24:58,754 : INFO : read 1080000 reviews\n",
      "2021-02-01 15:24:59,040 : INFO : read 1090000 reviews\n",
      "2021-02-01 15:24:59,331 : INFO : read 1100000 reviews\n",
      "2021-02-01 15:24:59,622 : INFO : read 1110000 reviews\n",
      "2021-02-01 15:24:59,911 : INFO : read 1120000 reviews\n",
      "2021-02-01 15:25:00,202 : INFO : read 1130000 reviews\n",
      "2021-02-01 15:25:00,493 : INFO : read 1140000 reviews\n",
      "2021-02-01 15:25:00,784 : INFO : read 1150000 reviews\n",
      "2021-02-01 15:25:01,074 : INFO : read 1160000 reviews\n",
      "2021-02-01 15:25:01,370 : INFO : read 1170000 reviews\n",
      "2021-02-01 15:25:01,663 : INFO : read 1180000 reviews\n",
      "2021-02-01 15:25:01,957 : INFO : read 1190000 reviews\n",
      "2021-02-01 15:25:02,251 : INFO : read 1200000 reviews\n",
      "2021-02-01 15:25:02,539 : INFO : read 1210000 reviews\n",
      "2021-02-01 15:25:02,828 : INFO : read 1220000 reviews\n",
      "2021-02-01 15:25:03,119 : INFO : read 1230000 reviews\n",
      "2021-02-01 15:25:03,405 : INFO : read 1240000 reviews\n",
      "2021-02-01 15:25:03,699 : INFO : read 1250000 reviews\n",
      "2021-02-01 15:25:03,990 : INFO : read 1260000 reviews\n",
      "2021-02-01 15:25:04,284 : INFO : read 1270000 reviews\n",
      "2021-02-01 15:25:05,774 : INFO : read 1280000 reviews\n",
      "2021-02-01 15:25:06,068 : INFO : read 1290000 reviews\n",
      "2021-02-01 15:25:06,357 : INFO : read 1300000 reviews\n",
      "2021-02-01 15:25:06,651 : INFO : read 1310000 reviews\n",
      "2021-02-01 15:25:06,937 : INFO : read 1320000 reviews\n",
      "2021-02-01 15:25:07,185 : INFO : read 0 reviews\n",
      "2021-02-01 15:25:07,471 : INFO : read 10000 reviews\n",
      "2021-02-01 15:25:07,771 : INFO : read 20000 reviews\n",
      "2021-02-01 15:25:08,060 : INFO : read 30000 reviews\n",
      "2021-02-01 15:25:08,348 : INFO : read 40000 reviews\n",
      "2021-02-01 15:25:08,633 : INFO : read 50000 reviews\n",
      "2021-02-01 15:25:08,920 : INFO : read 60000 reviews\n",
      "2021-02-01 15:25:09,208 : INFO : read 70000 reviews\n",
      "2021-02-01 15:25:09,498 : INFO : read 80000 reviews\n",
      "2021-02-01 15:25:09,787 : INFO : read 90000 reviews\n",
      "2021-02-01 15:25:10,074 : INFO : read 100000 reviews\n",
      "2021-02-01 15:25:10,361 : INFO : read 110000 reviews\n",
      "2021-02-01 15:25:10,655 : INFO : read 120000 reviews\n",
      "2021-02-01 15:25:10,940 : INFO : read 130000 reviews\n",
      "2021-02-01 15:25:11,230 : INFO : read 140000 reviews\n",
      "2021-02-01 15:25:11,554 : INFO : read 150000 reviews\n",
      "2021-02-01 15:25:11,865 : INFO : read 160000 reviews\n",
      "2021-02-01 15:25:12,162 : INFO : read 170000 reviews\n",
      "2021-02-01 15:25:12,446 : INFO : read 180000 reviews\n",
      "2021-02-01 15:25:12,733 : INFO : read 190000 reviews\n",
      "2021-02-01 15:25:13,022 : INFO : read 200000 reviews\n",
      "2021-02-01 15:25:13,311 : INFO : read 210000 reviews\n",
      "2021-02-01 15:25:13,603 : INFO : read 220000 reviews\n",
      "2021-02-01 15:25:13,889 : INFO : read 230000 reviews\n",
      "2021-02-01 15:25:14,174 : INFO : read 240000 reviews\n",
      "2021-02-01 15:25:14,464 : INFO : read 250000 reviews\n",
      "2021-02-01 15:25:14,763 : INFO : read 260000 reviews\n",
      "2021-02-01 15:25:15,079 : INFO : read 270000 reviews\n",
      "2021-02-01 15:25:15,383 : INFO : read 280000 reviews\n",
      "2021-02-01 15:25:15,683 : INFO : read 290000 reviews\n",
      "2021-02-01 15:25:15,974 : INFO : read 300000 reviews\n",
      "2021-02-01 15:25:16,267 : INFO : read 310000 reviews\n",
      "2021-02-01 15:25:16,557 : INFO : read 320000 reviews\n",
      "2021-02-01 15:25:16,847 : INFO : read 330000 reviews\n",
      "2021-02-01 15:25:17,137 : INFO : read 340000 reviews\n",
      "2021-02-01 15:25:17,429 : INFO : read 350000 reviews\n",
      "2021-02-01 15:25:17,720 : INFO : read 360000 reviews\n",
      "2021-02-01 15:25:18,010 : INFO : read 370000 reviews\n",
      "2021-02-01 15:25:18,302 : INFO : read 380000 reviews\n",
      "2021-02-01 15:25:18,599 : INFO : read 390000 reviews\n",
      "2021-02-01 15:25:18,894 : INFO : read 400000 reviews\n",
      "2021-02-01 15:25:19,206 : INFO : read 410000 reviews\n",
      "2021-02-01 15:25:19,506 : INFO : read 420000 reviews\n",
      "2021-02-01 15:25:19,801 : INFO : read 430000 reviews\n",
      "2021-02-01 15:25:20,090 : INFO : read 440000 reviews\n",
      "2021-02-01 15:25:20,382 : INFO : read 450000 reviews\n",
      "2021-02-01 15:25:20,674 : INFO : read 460000 reviews\n",
      "2021-02-01 15:25:20,963 : INFO : read 470000 reviews\n",
      "2021-02-01 15:25:21,256 : INFO : read 480000 reviews\n",
      "2021-02-01 15:25:21,543 : INFO : read 490000 reviews\n",
      "2021-02-01 15:25:21,836 : INFO : read 500000 reviews\n",
      "2021-02-01 15:25:22,127 : INFO : read 510000 reviews\n",
      "2021-02-01 15:25:22,417 : INFO : read 520000 reviews\n",
      "2021-02-01 15:25:22,708 : INFO : read 530000 reviews\n",
      "2021-02-01 15:25:22,995 : INFO : read 540000 reviews\n",
      "2021-02-01 15:25:23,286 : INFO : read 550000 reviews\n",
      "2021-02-01 15:25:23,574 : INFO : read 560000 reviews\n",
      "2021-02-01 15:25:23,867 : INFO : read 570000 reviews\n",
      "2021-02-01 15:25:24,159 : INFO : read 580000 reviews\n",
      "2021-02-01 15:25:24,447 : INFO : read 590000 reviews\n",
      "2021-02-01 15:25:24,734 : INFO : read 600000 reviews\n",
      "2021-02-01 15:25:25,021 : INFO : read 610000 reviews\n",
      "2021-02-01 15:25:25,312 : INFO : read 620000 reviews\n"
     ]
    },
    {
     "name": "stderr",
     "output_type": "stream",
     "text": [
      "2021-02-01 15:25:25,602 : INFO : read 630000 reviews\n",
      "2021-02-01 15:25:25,890 : INFO : read 640000 reviews\n",
      "2021-02-01 15:25:26,180 : INFO : read 650000 reviews\n",
      "2021-02-01 15:25:26,470 : INFO : read 660000 reviews\n",
      "2021-02-01 15:25:26,758 : INFO : read 670000 reviews\n",
      "2021-02-01 15:25:27,050 : INFO : read 680000 reviews\n",
      "2021-02-01 15:25:27,335 : INFO : read 690000 reviews\n",
      "2021-02-01 15:25:27,620 : INFO : read 700000 reviews\n",
      "2021-02-01 15:25:27,909 : INFO : read 710000 reviews\n",
      "2021-02-01 15:25:28,197 : INFO : read 720000 reviews\n",
      "2021-02-01 15:25:28,486 : INFO : read 730000 reviews\n",
      "2021-02-01 15:25:28,775 : INFO : read 740000 reviews\n",
      "2021-02-01 15:25:29,065 : INFO : read 750000 reviews\n",
      "2021-02-01 15:25:29,360 : INFO : read 760000 reviews\n",
      "2021-02-01 15:25:29,652 : INFO : read 770000 reviews\n",
      "2021-02-01 15:25:29,938 : INFO : read 780000 reviews\n",
      "2021-02-01 15:25:30,224 : INFO : read 790000 reviews\n",
      "2021-02-01 15:25:30,516 : INFO : read 800000 reviews\n",
      "2021-02-01 15:25:30,806 : INFO : read 810000 reviews\n",
      "2021-02-01 15:25:31,097 : INFO : read 820000 reviews\n",
      "2021-02-01 15:25:31,384 : INFO : read 830000 reviews\n",
      "2021-02-01 15:25:31,669 : INFO : read 840000 reviews\n",
      "2021-02-01 15:25:31,958 : INFO : read 850000 reviews\n",
      "2021-02-01 15:25:32,251 : INFO : read 860000 reviews\n",
      "2021-02-01 15:25:32,543 : INFO : read 870000 reviews\n",
      "2021-02-01 15:25:32,835 : INFO : read 880000 reviews\n",
      "2021-02-01 15:25:33,120 : INFO : read 890000 reviews\n",
      "2021-02-01 15:25:33,407 : INFO : read 900000 reviews\n",
      "2021-02-01 15:25:33,696 : INFO : read 910000 reviews\n",
      "2021-02-01 15:25:33,987 : INFO : read 920000 reviews\n",
      "2021-02-01 15:25:34,280 : INFO : read 930000 reviews\n",
      "2021-02-01 15:25:34,570 : INFO : read 940000 reviews\n",
      "2021-02-01 15:25:34,861 : INFO : read 950000 reviews\n",
      "2021-02-01 15:25:36,674 : INFO : read 960000 reviews\n",
      "2021-02-01 15:25:36,964 : INFO : read 970000 reviews\n",
      "2021-02-01 15:25:37,254 : INFO : read 980000 reviews\n",
      "2021-02-01 15:25:37,540 : INFO : read 990000 reviews\n",
      "2021-02-01 15:25:37,831 : INFO : read 1000000 reviews\n",
      "2021-02-01 15:25:38,120 : INFO : read 1010000 reviews\n",
      "2021-02-01 15:25:38,407 : INFO : read 1020000 reviews\n",
      "2021-02-01 15:25:38,697 : INFO : read 1030000 reviews\n",
      "2021-02-01 15:25:38,998 : INFO : read 1040000 reviews\n",
      "2021-02-01 15:25:39,284 : INFO : read 1050000 reviews\n",
      "2021-02-01 15:25:39,577 : INFO : read 1060000 reviews\n",
      "2021-02-01 15:25:39,865 : INFO : read 1070000 reviews\n",
      "2021-02-01 15:25:40,155 : INFO : read 1080000 reviews\n",
      "2021-02-01 15:25:40,445 : INFO : read 1090000 reviews\n",
      "2021-02-01 15:25:40,735 : INFO : read 1100000 reviews\n",
      "2021-02-01 15:25:41,023 : INFO : read 1110000 reviews\n",
      "2021-02-01 15:25:41,311 : INFO : read 1120000 reviews\n",
      "2021-02-01 15:25:41,601 : INFO : read 1130000 reviews\n",
      "2021-02-01 15:25:41,888 : INFO : read 1140000 reviews\n",
      "2021-02-01 15:25:42,173 : INFO : read 1150000 reviews\n",
      "2021-02-01 15:25:42,461 : INFO : read 1160000 reviews\n",
      "2021-02-01 15:25:42,750 : INFO : read 1170000 reviews\n",
      "2021-02-01 15:25:43,035 : INFO : read 1180000 reviews\n",
      "2021-02-01 15:25:43,325 : INFO : read 1190000 reviews\n",
      "2021-02-01 15:25:43,617 : INFO : read 1200000 reviews\n",
      "2021-02-01 15:25:43,905 : INFO : read 1210000 reviews\n",
      "2021-02-01 15:25:44,195 : INFO : read 1220000 reviews\n",
      "2021-02-01 15:25:44,478 : INFO : read 1230000 reviews\n",
      "2021-02-01 15:25:44,764 : INFO : read 1240000 reviews\n",
      "2021-02-01 15:25:45,054 : INFO : read 1250000 reviews\n",
      "2021-02-01 15:25:45,346 : INFO : read 1260000 reviews\n",
      "2021-02-01 15:25:45,637 : INFO : read 1270000 reviews\n",
      "2021-02-01 15:25:45,924 : INFO : read 1280000 reviews\n",
      "2021-02-01 15:25:46,217 : INFO : read 1290000 reviews\n",
      "2021-02-01 15:25:46,506 : INFO : read 1300000 reviews\n",
      "2021-02-01 15:25:46,800 : INFO : read 1310000 reviews\n",
      "2021-02-01 15:25:47,089 : INFO : read 1320000 reviews\n",
      "2021-02-01 15:25:47,334 : INFO : Done reading data file\n"
     ]
    }
   ],
   "source": [
    "import gensim\n",
    "from gensim.models import Word2Vec\n",
    "\n",
    "\n",
    "#corp_fa=open('mizanansari.fa',encoding=\"utf8\")\n",
    "#corp_fa_tran=open('mizanansari_tran.fa',encoding=\"utf8\")\n",
    "#corp_fa_cat=open('ansarimizan.fa',encoding=\"utf8\")\n",
    "#corp_fa_lines=corp_fa.readlines()\n",
    "#corp_fa_tran_lines=corp_fa_tran.readlines()\n",
    "#corp_fa_cat_lines=corp_fa_cat.readlines()\n",
    "\n",
    "def read_input(input_file):\n",
    "    with open(input_file, encoding=\"utf8\") as fp:\n",
    "        for  i, line in enumerate(fp): \n",
    "            if (i%10000==0):\n",
    "                logging.info (\"read {0} reviews\".format (i))\n",
    "                # do some pre-processing and return a list of words for each review text\n",
    "\n",
    "            yield gensim.utils.simple_preprocess(line)\n",
    "\n",
    "# read the tokenized reviews into a list\n",
    "# each review item becomes a serries of words\n",
    "# so this becomes a list of lists\n",
    "#doc_fa_cat = list (read_input (corp_fa_cat_lines))\n",
    "#doc_fa = list (read_input (corp_fa_lines))\n",
    "#doc_fa_tran = list (read_input (corp_fa_tran_lines))\n",
    "\n",
    "doc_fa_cat = list(read_input('ma_shuf'))\n",
    "doc_fa = list(read_input('ma.fa'))\n",
    "doc_fa_tran = list(read_input('ma_tran.fa'))\n",
    "\n",
    "\n",
    "logging.info (\"Done reading data file\")\n"
   ]
  },
  {
   "cell_type": "code",
   "execution_count": 175,
   "metadata": {},
   "outputs": [
    {
     "name": "stderr",
     "output_type": "stream",
     "text": [
      "2019-12-31 15:11:51,547 : INFO : precomputing L2-norms of word weight vectors\n"
     ]
    },
    {
     "data": {
      "text/plain": [
       "[('قزوین', 0.7019908428192139),\n",
       " ('کاراج', 0.6627534031867981),\n",
       " ('یزد', 0.6626338362693787),\n",
       " ('خراسان', 0.6565823554992676),\n",
       " ('هرمزگان', 0.6458039879798889),\n",
       " ('سیستان', 0.6454554796218872),\n",
       " ('سمنان', 0.6364220976829529),\n",
       " ('البرز', 0.6287955045700073),\n",
       " ('شیراز', 0.6253845691680908),\n",
       " ('اردبیل', 0.6185113191604614)]"
      ]
     },
     "execution_count": 175,
     "metadata": {},
     "output_type": "execute_result"
    }
   ],
   "source": [
    "w1 = \"کرمان\"\n",
    "model.wv.most_similar (positive=w1)"
   ]
  },
  {
   "cell_type": "code",
   "execution_count": 3,
   "metadata": {},
   "outputs": [
    {
     "name": "stderr",
     "output_type": "stream",
     "text": [
      "2021-02-01 15:27:19,972 : INFO : loading Word2Vec object from ma.model\n",
      "2021-02-01 15:27:20,828 : INFO : loading wv recursively from ma.model.wv.* with mmap=None\n",
      "2021-02-01 15:27:20,829 : INFO : loading vectors from ma.model.wv.vectors.npy with mmap=None\n",
      "2021-02-01 15:27:23,638 : INFO : setting ignored attribute vectors_norm to None\n",
      "2021-02-01 15:27:23,639 : INFO : loading vocabulary recursively from ma.model.vocabulary.* with mmap=None\n",
      "2021-02-01 15:27:23,639 : INFO : loading trainables recursively from ma.model.trainables.* with mmap=None\n",
      "2021-02-01 15:27:23,640 : INFO : loading syn1neg from ma.model.trainables.syn1neg.npy with mmap=None\n",
      "2021-02-01 15:27:26,482 : INFO : setting ignored attribute cum_table to None\n",
      "2021-02-01 15:27:26,483 : INFO : loaded ma.model\n"
     ]
    }
   ],
   "source": [
    "model = Word2Vec.load(\"ma.model\")"
   ]
  },
  {
   "cell_type": "code",
   "execution_count": 4,
   "metadata": {},
   "outputs": [
    {
     "data": {
      "text/plain": [
       "0.35828128"
      ]
     },
     "execution_count": 4,
     "metadata": {},
     "output_type": "execute_result"
    }
   ],
   "source": [
    "# similarity between two different words\n",
    "model.wv.similarity(w1=\"سجاد\",w2=\"کرمان\")"
   ]
  },
  {
   "cell_type": "code",
   "execution_count": 5,
   "metadata": {},
   "outputs": [
    {
     "name": "stdout",
     "output_type": "stream",
     "text": [
      "['خیلی', 'خیلی', 'باهوشند']\n"
     ]
    }
   ],
   "source": [
    "print(doc_fa[1088772])"
   ]
  },
  {
   "cell_type": "code",
   "execution_count": 7,
   "metadata": {},
   "outputs": [
    {
     "name": "stdout",
     "output_type": "stream",
     "text": [
      "['آنها', 'بسیار', 'باهوش', 'هستند']\n"
     ]
    }
   ],
   "source": [
    "print(doc_fa_tran[1088772])"
   ]
  },
  {
   "cell_type": "code",
   "execution_count": 14,
   "metadata": {},
   "outputs": [
    {
     "name": "stdout",
     "output_type": "stream",
     "text": [
      "0.13367416\n",
      "0.7441897\n",
      "0.2990753\n",
      "0.16158946\n",
      "0.13367416\n",
      "0.7441897\n",
      "0.2990753\n",
      "0.16158946\n",
      "-0.03366886\n",
      "-0.095681764\n",
      "0.21967024\n",
      "0.21193379\n"
     ]
    }
   ],
   "source": [
    "# AAS:\n",
    "# محاسبه شباهت کسینوسی جملات \n",
    "x=0\n",
    "similarity_sent = []\n",
    "meu = 0.001\n",
    "test1=doc_fa[1088772]\n",
    "test2=doc_fa_tran[1088772]\n",
    "\n",
    "# for line1, line2 in zip(doc_fa[1088772], doc_fa_tran[1088772]):\n",
    "for w1 in test1:\n",
    "    for w2 in test2:\n",
    "        try:\n",
    "            print(model.wv.similarity(w1,w2))\n",
    "            x += model.wv.similarity(w1, w2)\n",
    "        except:\n",
    "            print(model.wv.similarity(w1,w2))\n",
    "            x += meu\n",
    "#                 print(\"Pair {}, {} not found\".format(w1, w2))\n",
    "similarity_sent.append(x)\n",
    "x = 0"
   ]
  },
  {
   "cell_type": "code",
   "execution_count": 16,
   "metadata": {},
   "outputs": [
    {
     "data": {
      "text/plain": [
       "[2.9793106094002724]"
      ]
     },
     "execution_count": 16,
     "metadata": {},
     "output_type": "execute_result"
    }
   ],
   "source": [
    "similarity_sent"
   ]
  },
  {
   "cell_type": "code",
   "execution_count": 18,
   "metadata": {},
   "outputs": [
    {
     "name": "stdout",
     "output_type": "stream",
     "text": [
      "0.13367416\n",
      "0.7441897\n",
      "0.2990753\n",
      "0.16158946\n",
      "0.13367416\n",
      "0.7441897\n",
      "0.2990753\n",
      "0.16158946\n",
      "-0.03366886\n",
      "-0.095681764\n",
      "0.21967024\n",
      "0.21193379\n"
     ]
    }
   ],
   "source": [
    "# MAS:\n",
    "# محاسبه بیشترین شباهت کسینوسی جملات \n",
    "x=0\n",
    "y=[]\n",
    "max_similarity_sent = []\n",
    "meu = 0.001\n",
    "line1=doc_fa[1088772]\n",
    "line2=doc_fa_tran[1088772]\n",
    "\n",
    "for w1 in line1:\n",
    "    for w2 in line2:\n",
    "        try:\n",
    "            print(model.wv.similarity(w1,w2))\n",
    "            y.append(model.wv.similarity(w1, w2))\n",
    "        except:\n",
    "            print(model.wv.similarity(w1,w2))\n",
    "            y.append(meu)\n",
    "#                 print(\"Pair {}, {} not found\".format(w1, w2))\n",
    "max_similarity_sent.append(max(y))\n",
    "y=[0]"
   ]
  },
  {
   "cell_type": "code",
   "execution_count": 19,
   "metadata": {},
   "outputs": [
    {
     "data": {
      "text/plain": [
       "[0.7441897]"
      ]
     },
     "execution_count": 19,
     "metadata": {},
     "output_type": "execute_result"
    }
   ],
   "source": [
    "max_similarity_sent"
   ]
  },
  {
   "cell_type": "code",
   "execution_count": 64,
   "metadata": {},
   "outputs": [],
   "source": [
    "sim_sent=open('similarity_sent.fa','w',encoding=\"utf8\")\n",
    "for sim in range(len(similarity_sent)):\n",
    "        sim_sent.write(str(similarity_sent[sim])+'\\n')"
   ]
  },
  {
   "cell_type": "code",
   "execution_count": 65,
   "metadata": {},
   "outputs": [],
   "source": [
    "max_sim_sent=open('max_similarity_sent.fa','w',encoding=\"utf8\")\n",
    "for sim in range(len(max_similarity_sent)):\n",
    "        max_sim_sent.write(str(max_similarity_sent[sim])+'\\n')"
   ]
  },
  {
   "cell_type": "code",
   "execution_count": 66,
   "metadata": {},
   "outputs": [
    {
     "data": {
      "text/plain": [
       "1328510"
      ]
     },
     "execution_count": 66,
     "metadata": {},
     "output_type": "execute_result"
    }
   ],
   "source": [
    "len(max_similarity_sent)"
   ]
  },
  {
   "cell_type": "code",
   "execution_count": 69,
   "metadata": {},
   "outputs": [
    {
     "data": {
      "text/plain": [
       "1328510"
      ]
     },
     "execution_count": 69,
     "metadata": {},
     "output_type": "execute_result"
    }
   ],
   "source": [
    "len(doc_fa_tran)"
   ]
  },
  {
   "cell_type": "code",
   "execution_count": 31,
   "metadata": {},
   "outputs": [
    {
     "name": "stdout",
     "output_type": "stream",
     "text": [
      "0.24827588411668935\n",
      "\n"
     ]
    }
   ],
   "source": [
    "AAS=open('AAS.fa','w',encoding=\"utf8\")\n",
    "for num in similarity_sent:\n",
    "    print(str((((num))/12))+'\\n')\n",
    "    AAS.write(str((((num))/12))+'\\n')"
   ]
  },
  {
   "cell_type": "code",
   "execution_count": 33,
   "metadata": {},
   "outputs": [
    {
     "name": "stdout",
     "output_type": "stream",
     "text": [
      "0.2480632265408834\n",
      "\n"
     ]
    }
   ],
   "source": [
    "MAS=open('MAS.fa','w',encoding=\"utf8\")\n",
    "for num in max_similarity_sent:\n",
    "    print(str(num/3)+'\\n')\n",
    "    MAS.write(str(num/3)+'\\n')"
   ]
  },
  {
   "cell_type": "code",
   "execution_count": 22,
   "metadata": {},
   "outputs": [
    {
     "ename": "AttributeError",
     "evalue": "'_io.TextIOWrapper' object has no attribute 'fa'",
     "output_type": "error",
     "traceback": [
      "\u001b[1;31m---------------------------------------------------------------------------\u001b[0m",
      "\u001b[1;31mAttributeError\u001b[0m                            Traceback (most recent call last)",
      "\u001b[1;32m<ipython-input-22-4be6df24f574>\u001b[0m in \u001b[0;36m<module>\u001b[1;34m\u001b[0m\n\u001b[1;32m----> 1\u001b[1;33m \u001b[0mAAS\u001b[0m\u001b[1;33m.\u001b[0m\u001b[0mfa\u001b[0m\u001b[1;33m\u001b[0m\u001b[1;33m\u001b[0m\u001b[0m\n\u001b[0m",
      "\u001b[1;31mAttributeError\u001b[0m: '_io.TextIOWrapper' object has no attribute 'fa'"
     ]
    }
   ],
   "source": [
    "AAS.fa"
   ]
  },
  {
   "cell_type": "code",
   "execution_count": 101,
   "metadata": {},
   "outputs": [],
   "source": [
    "# نرمال سازی داده های \n",
    "# AAS\n",
    "import pandas as pd\n",
    "import numpy as np\n",
    "from sklearn import preprocessing\n",
    "\n",
    "AAS_normal=open('AAS_normal.fa','w',encoding=\"utf8\")\n",
    "df = pd.io.parsers.read_csv('AAS.fa',header=None,usecols=[0])\n",
    "df.columns=['AAS']\n",
    "# df.head(20)\n",
    "std_scale = preprocessing.StandardScaler().fit(df[['AAS']])\n",
    "df_std = std_scale.transform(df[['AAS']])\n",
    "minmax_scale = preprocessing.MinMaxScaler().fit(df[['AAS']])\n",
    "df_minmax = minmax_scale.transform(df[['AAS']])\n",
    "for i in df_minmax[:,0]:\n",
    "    AAS_normal.write(str(i)+'\\n')"
   ]
  },
  {
   "cell_type": "code",
   "execution_count": 98,
   "metadata": {},
   "outputs": [],
   "source": [
    "# نرمال سازی داده های \n",
    "# MAS\n",
    "import pandas as pd\n",
    "import numpy as np\n",
    "from sklearn import preprocessing\n",
    "MAS_normal=open('MAS_normal.fa','w',encoding=\"utf8\")\n",
    "\n",
    "df = pd.io.parsers.read_csv('MAS.fa',header=None,usecols=[0])\n",
    "\n",
    "df.columns=['MAS']\n",
    "\n",
    "std_scale = preprocessing.StandardScaler().fit(df[['MAS']])\n",
    "df_std = std_scale.transform(df[['MAS']])\n",
    "\n",
    "minmax_scale = preprocessing.MinMaxScaler().fit(df[['MAS']])\n",
    "df_minmax = minmax_scale.transform(df[['MAS']])\n",
    "for i in df_minmax[:,0]:\n",
    "    MAS_normal.write(str(i)+'\\n')"
   ]
  },
  {
   "cell_type": "code",
   "execution_count": 100,
   "metadata": {},
   "outputs": [],
   "source": [
    "# نرمال سازی داده های \n",
    "# BLEU\n",
    "import pandas as pd\n",
    "import numpy as np\n",
    "from sklearn import preprocessing\n",
    "BLEU_normal=open('BLEU_normal.fa','w',encoding=\"utf8\")\n",
    "\n",
    "df = pd.io.parsers.read_csv('result_bleu.fa',header=None,usecols=[0])\n",
    "\n",
    "df.columns=['BLEU']\n",
    "\n",
    "std_scale = preprocessing.StandardScaler().fit(df[['BLEU']])\n",
    "df_std = std_scale.transform(df[['BLEU']])\n",
    "\n",
    "minmax_scale = preprocessing.MinMaxScaler().fit(df[['BLEU']])\n",
    "df_minmax = minmax_scale.transform(df[['BLEU']])\n",
    "for i in df_minmax[:,0]:\n",
    "    BLEU_normal.write(str(i)+'\\n')"
   ]
  },
  {
   "cell_type": "code",
   "execution_count": 136,
   "metadata": {},
   "outputs": [
    {
     "name": "stdout",
     "output_type": "stream",
     "text": [
      "finish\n"
     ]
    }
   ],
   "source": [
    "\n",
    "sum_normal=open('sum_normal.fa','w',encoding=\"utf8\")\n",
    "avg_normal=open('avg_normal.fa','w',encoding=\"utf8\")\n",
    "df_AAS = pd.io.parsers.read_csv('AAS_normal.fa',header=None,usecols=[0])\n",
    "df_MAS=pd.io.parsers.read_csv('MAS_normal.fa',header=None,usecols=[0])\n",
    "df_BLEU=pd.io.parsers.read_csv('BLEU_normal.fa',header=None,usecols=[0])\n",
    "df_AAS.columns=['AAS']\n",
    "df_MAS.columns=['MAS']\n",
    "df_BLEU.columns=['BLEU']\n",
    "\n",
    "sum_row=[]\n",
    "for i in range(len(df_BLEU['BLEU'])) :\n",
    "    sum_row.append(df_AAS['AAS'][i]+df_MAS['MAS'][i]+df_BLEU['BLEU'][i])\n",
    "    \n",
    "for s in sum_row:\n",
    "    sum_normal.write(str(s)+'\\n')\n",
    "    \n",
    "AVG=sum(sum_row)/len(df_BLEU['BLEU'])\n",
    "avg_normal.write(str(AVG))\n",
    "print('finish')"
   ]
  },
  {
   "cell_type": "code",
   "execution_count": 148,
   "metadata": {},
   "outputs": [],
   "source": [
    "mizanansari_fa=open('mizanansari.fa',encoding=\"utf8\")\n",
    "mizanansari_en=open('mizanansari.en',encoding=\"utf8\")\n",
    "sum_normal=open('sum_normal.fa',encoding=\"utf8\")\n",
    "mizanansari_filter_fa=open('mizanansari_filter.fa','w',encoding=\"utf8\")\n",
    "mizanansari_filter_en=open('mizanansari_filter.en','w',encoding=\"utf8\")\n",
    "\n",
    "mizanansari_fa_lines=mizanansari_fa.readlines()\n",
    "mizanansari_en_lines=mizanansari_en.readlines()\n",
    "sum_normal_lines=sum_normal.readlines()\n",
    "\n",
    "for line in range(len(sum_normal_lines)):\n",
    "    if(float(sum_normal_lines[line])>=AVG):\n",
    "        mizanansari_filter_en.write(mizanansari_en_lines[line].strip()+'\\n')\n",
    "        mizanansari_filter_fa.write(mizanansari_fa_lines[line].strip()+'\\n')"
   ]
  },
  {
   "cell_type": "code",
   "execution_count": 162,
   "metadata": {},
   "outputs": [],
   "source": [
    "x=open('mizanansari_filter.fa',encoding=\"utf8\")\n",
    "y=open('mizanansari_filter.en',encoding=\"utf8\")\n",
    "x1=x.readlines()\n",
    "y1=y.readlines()"
   ]
  },
  {
   "cell_type": "code",
   "execution_count": 163,
   "metadata": {},
   "outputs": [
    {
     "data": {
      "text/plain": [
       "793806"
      ]
     },
     "execution_count": 163,
     "metadata": {},
     "output_type": "execute_result"
    }
   ],
   "source": [
    "len(x1)"
   ]
  },
  {
   "cell_type": "code",
   "execution_count": 164,
   "metadata": {},
   "outputs": [
    {
     "data": {
      "text/plain": [
       "793806"
      ]
     },
     "execution_count": 164,
     "metadata": {},
     "output_type": "execute_result"
    }
   ],
   "source": [
    "len(y1)"
   ]
  },
  {
   "cell_type": "code",
   "execution_count": null,
   "metadata": {},
   "outputs": [],
   "source": []
  }
 ],
 "metadata": {
  "kernelspec": {
   "display_name": "Python 3",
   "language": "python",
   "name": "python3"
  },
  "language_info": {
   "codemirror_mode": {
    "name": "ipython",
    "version": 3
   },
   "file_extension": ".py",
   "mimetype": "text/x-python",
   "name": "python",
   "nbconvert_exporter": "python",
   "pygments_lexer": "ipython3",
   "version": "3.6.8"
  }
 },
 "nbformat": 4,
 "nbformat_minor": 2
}
