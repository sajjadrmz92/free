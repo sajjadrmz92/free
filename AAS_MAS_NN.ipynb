{
 "cells": [
  {
   "cell_type": "code",
   "execution_count": 1,
   "metadata": {},
   "outputs": [],
   "source": [
    "import pandas as pd\n",
    "import numpy as np\n",
    "from sklearn import preprocessing"
   ]
  },
  {
   "cell_type": "code",
   "execution_count": 2,
   "metadata": {},
   "outputs": [],
   "source": [
    "avg_normal=open('avg_normal.fa','w',encoding=\"utf8\")\n",
    "\n",
    "df_AAS = pd.io.parsers.read_csv('AAS_normal.fa',header=None,usecols=[0])\n",
    "df_MAS = pd.io.parsers.read_csv('MAS_normal.fa',header=None,usecols=[0])\n",
    "df_BLEU = pd.io.parsers.read_csv('BLEU_normal.fa',header=None,usecols=[0])\n",
    "\n",
    "\n",
    "df_AAS.columns=['AAS']\n",
    "df_MAS.columns=['MAS']\n",
    "df_BLEU.columns=['BLEU']\n",
    "\n",
    "\n",
    "sum_row=[]\n",
    "\n",
    "for i in range(len(df_BLEU['BLEU'])) :\n",
    "    \n",
    "    sum_row.append(df_AAS['AAS'][i]+df_MAS['MAS'][i] + df_BLEU['BLEU'][i])\n",
    "\n",
    "    \n",
    "\n",
    "avg_list = np.nanmean(sum_row)\n",
    "\n",
    "avg_normal.write(str(avg_list))\n",
    "\n",
    "avg_normal.close()\n"
   ]
  },
  {
   "cell_type": "code",
   "execution_count": 3,
   "metadata": {},
   "outputs": [],
   "source": [
    "sum_normal=open('sum_normal.fa','w',encoding=\"utf8\")\n",
    "\n",
    "for s in sum_row:\n",
    "    sum_normal.write(str(s)+'\\n')\n",
    "sum_normal.close()"
   ]
  },
  {
   "cell_type": "code",
   "execution_count": 4,
   "metadata": {},
   "outputs": [],
   "source": [
    "sum_normal=open('sum_normal.fa' , encoding=\"utf-8\")\n",
    "\n",
    "ma_fa = open('ma.fa' , encoding=\"utf-8\")\n",
    "ma_en = open('ma.en' , encoding=\"utf-8\")\n",
    "\n",
    "ma_fa_lines = ma_fa.readlines()\n",
    "ma_en_lines = ma_en.readlines()\n",
    "\n",
    "\n",
    "\n",
    "ma_filterfa=open('ma_filter.fa' , 'w', encoding=\"utf-8\" )\n",
    "ma_filteren=open('ma_filter.en' , 'w', encoding=\"utf-8\" )\n",
    "\n",
    "\n",
    "\n",
    "sum_normal_lines = sum_normal.readlines()\n",
    "\n",
    "for i in range(len(sum_normal_lines)):\n",
    "    if(float(sum_normal_lines[i])>=avg_list):\n",
    "        ma_filterfa.write(ma_fa_lines[i].strip() + '\\n')\n",
    "        ma_filteren.write(ma_en_lines[i].strip() + '\\n')\n",
    "ma_filterfa.close()\n",
    "ma_filteren.close()\n",
    "       "
   ]
  },
  {
   "cell_type": "code",
   "execution_count": null,
   "metadata": {},
   "outputs": [],
   "source": []
  }
 ],
 "metadata": {
  "kernelspec": {
   "display_name": "Python 3",
   "language": "python",
   "name": "python3"
  },
  "language_info": {
   "codemirror_mode": {
    "name": "ipython",
    "version": 3
   },
   "file_extension": ".py",
   "mimetype": "text/x-python",
   "name": "python",
   "nbconvert_exporter": "python",
   "pygments_lexer": "ipython3",
   "version": "3.6.8"
  }
 },
 "nbformat": 4,
 "nbformat_minor": 2
}
